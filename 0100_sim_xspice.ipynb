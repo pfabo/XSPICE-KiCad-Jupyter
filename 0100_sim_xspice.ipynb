{
 "cells": [
  {
   "cell_type": "markdown",
   "id": "634dcd15-ec14-4f0e-a0e1-485ad052130b",
   "metadata": {},
   "source": [
    "# <font color='navy'> <b> KiCad - XSPICE Library  </b></font>\n",
    "\n",
    "Modifikovaná knižnica vychádza z knižnice [XSPICE-symbols-models](https://forum.kicad.info/t/simulation-with-xspice-code-models/56384). Doplnené sú analogové komponenty ako aj parametre modelov. "
   ]
  },
  {
   "cell_type": "markdown",
   "id": "4097e46e-7def-42e9-b682-7d8aea86a3f8",
   "metadata": {},
   "source": [
    "## <font color='purple'> <b> XSPICE - Analog  </b></font>\n",
    "\n",
    "<img src=\"./examples/0900_xspice_comp/0900_xspice_analog.png\" width=\"700\">"
   ]
  },
  {
   "cell_type": "markdown",
   "id": "f707fce5-6f95-4ba0-8064-c7710dead5c6",
   "metadata": {},
   "source": [
    "## <font color='purple'> <b> XSPICE - Digital  </b></font>"
   ]
  },
  {
   "cell_type": "markdown",
   "id": "b4b81746-df1b-4191-8342-bc98b47eebca",
   "metadata": {},
   "source": [
    "## <font color='purple'> <b> XSPICE - Mixed  </b></font>"
   ]
  }
 ],
 "metadata": {
  "kernelspec": {
   "display_name": "Python 3 (ipykernel)",
   "language": "python",
   "name": "python3"
  },
  "language_info": {
   "codemirror_mode": {
    "name": "ipython",
    "version": 3
   },
   "file_extension": ".py",
   "mimetype": "text/x-python",
   "name": "python",
   "nbconvert_exporter": "python",
   "pygments_lexer": "ipython3",
   "version": "3.13.3"
  }
 },
 "nbformat": 4,
 "nbformat_minor": 5
}
