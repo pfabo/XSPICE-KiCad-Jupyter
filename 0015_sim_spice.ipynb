{
 "cells": [
  {
   "cell_type": "markdown",
   "id": "e8a7bd9a-0450-4e47-b441-5326efa2f9ce",
   "metadata": {},
   "source": [
    "# <font color='navy'> <b> Simulácia elektronických obvodov</b></font>\n",
    "\n",
    "Klasický proces simulácie elektronických obvodov pozostáva z tvorby zapojenia, vygenerovania netlistu, spustenie procesu simulácie a prezentácie výsledkov. Tento postup je integrovaný vo väčšine návrhových systémov a je rutinne využívaný v technickej praxi.\n",
    "\n",
    "Vo vzdelávacom procese, akademickom prostredí a výskumnej činoosti potrebujeme vyššiu mieru flexibility pre procesy spojené so simuláciami, spracovanie neštandardných požiadaviek, kombinácia s inými programami, iné nároky na vizualizáciu a prezentáciu výsledkov v publikáciách. \n",
    "\n",
    "Ako jednou z možností sa javí kombinácia široko využívaného interaktívneho prostredia Jupyter-Notebook a jeho previazanie s vhodnými simulačnými nástrojmi, v našom prípade s prostredím pre tvorbu zapojení a plošných spojov **KiCad** a simulátorom **ngspice**. \n",
    "\n",
    "## <font color='purple'> <b> Simulácia </b></font>\n",
    "\n",
    "Samotné prostredie **Kicad** umožňuje základné simulácie obvodov a vizualizáciu výsledkov, nevyužíva (zatiaľ) zatiaľ všetky možnosti simulátora **ngspice**.\n",
    "\n",
    "Zapojenie vytvoríme pomocou komponentov zo štandarnej knižnice *Simulation-SPICE* a spustíme simulátor z menu *Inspect - Simulator*. Typ a parametre simulácie môžeme zadať v simulátore alebo priamo v zapojeni v textovom tvare.\n",
    "\n",
    "<img src=\"./examples/0015_kicad_inout/0015_kicad_inout.png\" width=\"700\">\n",
    "\n",
    "## <font color='purple'> <b> Výstup simulácie </b></font>\n",
    "\n",
    "Aktuálna verzia programu umožňuje zobrazenie časových a frekvenčných výsledkov simulácie. \n",
    "\n",
    "<img src=\"./examples/0015_kicad_inout/sim_output.png\" width=\"700\">"
   ]
  }
 ],
 "metadata": {
  "kernelspec": {
   "display_name": "Python 3 (ipykernel)",
   "language": "python",
   "name": "python3"
  },
  "language_info": {
   "codemirror_mode": {
    "name": "ipython",
    "version": 3
   },
   "file_extension": ".py",
   "mimetype": "text/x-python",
   "name": "python",
   "nbconvert_exporter": "python",
   "pygments_lexer": "ipython3",
   "version": "3.13.3"
  }
 },
 "nbformat": 4,
 "nbformat_minor": 5
}
